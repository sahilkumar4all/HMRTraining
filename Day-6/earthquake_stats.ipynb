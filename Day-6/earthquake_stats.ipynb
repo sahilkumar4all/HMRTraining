{
 "cells": [
  {
   "cell_type": "code",
   "execution_count": 1,
   "metadata": {},
   "outputs": [],
   "source": [
    "import bs4,urllib.request as url,pandas as pd,numpy as np"
   ]
  },
  {
   "cell_type": "code",
   "execution_count": 2,
   "metadata": {},
   "outputs": [],
   "source": [
    "path = 'https://earthquake.usgs.gov/earthquakes/browse/stats.php'"
   ]
  },
  {
   "cell_type": "code",
   "execution_count": 3,
   "metadata": {},
   "outputs": [],
   "source": [
    "response  =  url.urlopen(path)"
   ]
  },
  {
   "cell_type": "code",
   "execution_count": 4,
   "metadata": {},
   "outputs": [],
   "source": [
    "page  =  bs4.BeautifulSoup(response,'lxml')\n",
    "table1 = page.find('table') "
   ]
  },
  {
   "cell_type": "code",
   "execution_count": 5,
   "metadata": {},
   "outputs": [],
   "source": [
    "head = table1.findAll('th')"
   ]
  },
  {
   "cell_type": "code",
   "execution_count": 6,
   "metadata": {},
   "outputs": [
    {
     "data": {
      "text/plain": [
       "[<th>Magnitude</th>,\n",
       " <th>2000</th>,\n",
       " <th>2001</th>,\n",
       " <th>2002</th>,\n",
       " <th>2003</th>,\n",
       " <th>2004</th>,\n",
       " <th>2005</th>,\n",
       " <th>2006</th>,\n",
       " <th>2007</th>,\n",
       " <th>2008</th>,\n",
       " <th>2009</th>,\n",
       " <th>2010</th>,\n",
       " <th>2011</th>,\n",
       " <th>2012</th>,\n",
       " <th>2013</th>,\n",
       " <th>2014</th>,\n",
       " <th>2015</th>,\n",
       " <th>2016</th>,\n",
       " <th>2017</th>,\n",
       " <th>2018</th>,\n",
       " <th scope=\"row\">8.0+</th>,\n",
       " <th scope=\"row\">7–7.9</th>,\n",
       " <th scope=\"row\">6–6.9</th>,\n",
       " <th scope=\"row\">5–5.9</th>,\n",
       " <th scope=\"row\">Estimated<br/>Deaths</th>]"
      ]
     },
     "execution_count": 6,
     "metadata": {},
     "output_type": "execute_result"
    }
   ],
   "source": [
    "head"
   ]
  },
  {
   "cell_type": "code",
   "execution_count": 7,
   "metadata": {},
   "outputs": [],
   "source": [
    "t_head = []\n",
    "for i in head:\n",
    "    t_head.append(i.text)"
   ]
  },
  {
   "cell_type": "code",
   "execution_count": 21,
   "metadata": {},
   "outputs": [],
   "source": [
    "t_head\n",
    "del t_head[0]"
   ]
  },
  {
   "cell_type": "code",
   "execution_count": 22,
   "metadata": {},
   "outputs": [],
   "source": [
    "rows = t_head[:-5]\n",
    "columns = t_head[-5:]"
   ]
  },
  {
   "cell_type": "code",
   "execution_count": 23,
   "metadata": {},
   "outputs": [
    {
     "data": {
      "text/plain": [
       "['2000',\n",
       " '2001',\n",
       " '2002',\n",
       " '2003',\n",
       " '2004',\n",
       " '2005',\n",
       " '2006',\n",
       " '2007',\n",
       " '2008',\n",
       " '2009',\n",
       " '2010',\n",
       " '2011',\n",
       " '2012',\n",
       " '2013',\n",
       " '2014',\n",
       " '2015',\n",
       " '2016',\n",
       " '2017',\n",
       " '2018']"
      ]
     },
     "execution_count": 23,
     "metadata": {},
     "output_type": "execute_result"
    }
   ],
   "source": [
    "rows"
   ]
  },
  {
   "cell_type": "code",
   "execution_count": 11,
   "metadata": {},
   "outputs": [
    {
     "data": {
      "text/plain": [
       "['8.0+', '7–7.9', '6–6.9', '5–5.9', 'EstimatedDeaths']"
      ]
     },
     "execution_count": 11,
     "metadata": {},
     "output_type": "execute_result"
    }
   ],
   "source": [
    "columns"
   ]
  },
  {
   "cell_type": "code",
   "execution_count": 12,
   "metadata": {},
   "outputs": [],
   "source": [
    "data =table1.findAll('td')"
   ]
  },
  {
   "cell_type": "code",
   "execution_count": 14,
   "metadata": {},
   "outputs": [],
   "source": [
    "data1 = []\n",
    "for i in data:\n",
    "    data1.append(i.text)"
   ]
  },
  {
   "cell_type": "code",
   "execution_count": 17,
   "metadata": {},
   "outputs": [],
   "source": [
    "arr = np.array(data1)"
   ]
  },
  {
   "cell_type": "code",
   "execution_count": 19,
   "metadata": {},
   "outputs": [],
   "source": [
    "array_data = arr.reshape(5,19)"
   ]
  },
  {
   "cell_type": "code",
   "execution_count": 25,
   "metadata": {},
   "outputs": [
    {
     "data": {
      "text/html": [
       "<div>\n",
       "<style scoped>\n",
       "    .dataframe tbody tr th:only-of-type {\n",
       "        vertical-align: middle;\n",
       "    }\n",
       "\n",
       "    .dataframe tbody tr th {\n",
       "        vertical-align: top;\n",
       "    }\n",
       "\n",
       "    .dataframe thead th {\n",
       "        text-align: right;\n",
       "    }\n",
       "</style>\n",
       "<table border=\"1\" class=\"dataframe\">\n",
       "  <thead>\n",
       "    <tr style=\"text-align: right;\">\n",
       "      <th></th>\n",
       "      <th>2000</th>\n",
       "      <th>2001</th>\n",
       "      <th>2002</th>\n",
       "      <th>2003</th>\n",
       "      <th>2004</th>\n",
       "      <th>2005</th>\n",
       "      <th>2006</th>\n",
       "      <th>2007</th>\n",
       "      <th>2008</th>\n",
       "      <th>2009</th>\n",
       "      <th>2010</th>\n",
       "      <th>2011</th>\n",
       "      <th>2012</th>\n",
       "      <th>2013</th>\n",
       "      <th>2014</th>\n",
       "      <th>2015</th>\n",
       "      <th>2016</th>\n",
       "      <th>2017</th>\n",
       "      <th>2018</th>\n",
       "    </tr>\n",
       "  </thead>\n",
       "  <tbody>\n",
       "    <tr>\n",
       "      <th>8.0+</th>\n",
       "      <td>1</td>\n",
       "      <td>1</td>\n",
       "      <td>0</td>\n",
       "      <td>1</td>\n",
       "      <td>2</td>\n",
       "      <td>1</td>\n",
       "      <td>2</td>\n",
       "      <td>4</td>\n",
       "      <td>0</td>\n",
       "      <td>1</td>\n",
       "      <td>1</td>\n",
       "      <td>1</td>\n",
       "      <td>2</td>\n",
       "      <td>2</td>\n",
       "      <td>1</td>\n",
       "      <td>1</td>\n",
       "      <td>0</td>\n",
       "      <td>1</td>\n",
       "      <td>1</td>\n",
       "    </tr>\n",
       "    <tr>\n",
       "      <th>7–7.9</th>\n",
       "      <td>14</td>\n",
       "      <td>15</td>\n",
       "      <td>13</td>\n",
       "      <td>14</td>\n",
       "      <td>14</td>\n",
       "      <td>10</td>\n",
       "      <td>9</td>\n",
       "      <td>14</td>\n",
       "      <td>12</td>\n",
       "      <td>16</td>\n",
       "      <td>23</td>\n",
       "      <td>19</td>\n",
       "      <td>12</td>\n",
       "      <td>17</td>\n",
       "      <td>11</td>\n",
       "      <td>18</td>\n",
       "      <td>16</td>\n",
       "      <td>6</td>\n",
       "      <td>16</td>\n",
       "    </tr>\n",
       "    <tr>\n",
       "      <th>6–6.9</th>\n",
       "      <td>146</td>\n",
       "      <td>121</td>\n",
       "      <td>127</td>\n",
       "      <td>140</td>\n",
       "      <td>141</td>\n",
       "      <td>140</td>\n",
       "      <td>142</td>\n",
       "      <td>178</td>\n",
       "      <td>168</td>\n",
       "      <td>144</td>\n",
       "      <td>150</td>\n",
       "      <td>185</td>\n",
       "      <td>108</td>\n",
       "      <td>123</td>\n",
       "      <td>143</td>\n",
       "      <td>127</td>\n",
       "      <td>130</td>\n",
       "      <td>104</td>\n",
       "      <td>117</td>\n",
       "    </tr>\n",
       "    <tr>\n",
       "      <th>5–5.9</th>\n",
       "      <td>1344</td>\n",
       "      <td>1224</td>\n",
       "      <td>1201</td>\n",
       "      <td>1203</td>\n",
       "      <td>1515</td>\n",
       "      <td>1693</td>\n",
       "      <td>1712</td>\n",
       "      <td>2074</td>\n",
       "      <td>1768</td>\n",
       "      <td>1896</td>\n",
       "      <td>2209</td>\n",
       "      <td>2276</td>\n",
       "      <td>1401</td>\n",
       "      <td>1453</td>\n",
       "      <td>1574</td>\n",
       "      <td>1419</td>\n",
       "      <td>1550</td>\n",
       "      <td>1455</td>\n",
       "      <td>1674</td>\n",
       "    </tr>\n",
       "    <tr>\n",
       "      <th>EstimatedDeaths</th>\n",
       "      <td>231</td>\n",
       "      <td>21357</td>\n",
       "      <td>1685</td>\n",
       "      <td>33819</td>\n",
       "      <td>298101</td>\n",
       "      <td>87992</td>\n",
       "      <td>6605</td>\n",
       "      <td>708</td>\n",
       "      <td>88708</td>\n",
       "      <td>1790</td>\n",
       "      <td>226050</td>\n",
       "      <td>21942</td>\n",
       "      <td>689</td>\n",
       "      <td>1572</td>\n",
       "      <td>756</td>\n",
       "      <td>9624</td>\n",
       "      <td></td>\n",
       "      <td></td>\n",
       "      <td></td>\n",
       "    </tr>\n",
       "  </tbody>\n",
       "</table>\n",
       "</div>"
      ],
      "text/plain": [
       "                 2000   2001  2002   2003    2004   2005  2006  2007   2008  \\\n",
       "8.0+                1      1     0      1       2      1     2     4      0   \n",
       "7–7.9              14     15    13     14      14     10     9    14     12   \n",
       "6–6.9             146    121   127    140     141    140   142   178    168   \n",
       "5–5.9            1344   1224  1201   1203    1515   1693  1712  2074   1768   \n",
       "EstimatedDeaths   231  21357  1685  33819  298101  87992  6605   708  88708   \n",
       "\n",
       "                 2009    2010   2011  2012  2013  2014  2015  2016  2017  2018  \n",
       "8.0+                1       1      1     2     2     1     1     0     1     1  \n",
       "7–7.9              16      23     19    12    17    11    18    16     6    16  \n",
       "6–6.9             144     150    185   108   123   143   127   130   104   117  \n",
       "5–5.9            1896    2209   2276  1401  1453  1574  1419  1550  1455  1674  \n",
       "EstimatedDeaths  1790  226050  21942   689  1572   756  9624                    "
      ]
     },
     "execution_count": 25,
     "metadata": {},
     "output_type": "execute_result"
    }
   ],
   "source": [
    "pd.DataFrame(array_data,index=columns,columns = rows)"
   ]
  },
  {
   "cell_type": "code",
   "execution_count": null,
   "metadata": {},
   "outputs": [],
   "source": []
  }
 ],
 "metadata": {
  "kernelspec": {
   "display_name": "Python 3",
   "language": "python",
   "name": "python3"
  },
  "language_info": {
   "codemirror_mode": {
    "name": "ipython",
    "version": 3
   },
   "file_extension": ".py",
   "mimetype": "text/x-python",
   "name": "python",
   "nbconvert_exporter": "python",
   "pygments_lexer": "ipython3",
   "version": "3.7.3"
  }
 },
 "nbformat": 4,
 "nbformat_minor": 2
}
