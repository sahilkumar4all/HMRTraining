{
 "cells": [
  {
   "cell_type": "code",
   "execution_count": 1,
   "metadata": {},
   "outputs": [],
   "source": [
    "import numpy as np\n",
    "import pandas as pd\n",
    "from sklearn.svm import SVC\n",
    "from sklearn.model_selection import train_test_split\n",
    "from sklearn.metrics import accuracy_score\n",
    "from sklearn.preprocessing import StandardScaler\n",
    "import matplotlib.pyplot as plt\n",
    "%matplotlib inline"
   ]
  },
  {
   "cell_type": "code",
   "execution_count": 2,
   "metadata": {},
   "outputs": [],
   "source": [
    "dataset = pd.read_csv('Social_Network_Ads.csv')"
   ]
  },
  {
   "cell_type": "code",
   "execution_count": 3,
   "metadata": {},
   "outputs": [
    {
     "data": {
      "text/html": [
       "<div>\n",
       "<style scoped>\n",
       "    .dataframe tbody tr th:only-of-type {\n",
       "        vertical-align: middle;\n",
       "    }\n",
       "\n",
       "    .dataframe tbody tr th {\n",
       "        vertical-align: top;\n",
       "    }\n",
       "\n",
       "    .dataframe thead th {\n",
       "        text-align: right;\n",
       "    }\n",
       "</style>\n",
       "<table border=\"1\" class=\"dataframe\">\n",
       "  <thead>\n",
       "    <tr style=\"text-align: right;\">\n",
       "      <th></th>\n",
       "      <th>User ID</th>\n",
       "      <th>Gender</th>\n",
       "      <th>Age</th>\n",
       "      <th>EstimatedSalary</th>\n",
       "      <th>Purchased</th>\n",
       "    </tr>\n",
       "  </thead>\n",
       "  <tbody>\n",
       "    <tr>\n",
       "      <th>0</th>\n",
       "      <td>15624510</td>\n",
       "      <td>Male</td>\n",
       "      <td>19</td>\n",
       "      <td>19000</td>\n",
       "      <td>0</td>\n",
       "    </tr>\n",
       "    <tr>\n",
       "      <th>1</th>\n",
       "      <td>15810944</td>\n",
       "      <td>Male</td>\n",
       "      <td>35</td>\n",
       "      <td>20000</td>\n",
       "      <td>0</td>\n",
       "    </tr>\n",
       "    <tr>\n",
       "      <th>2</th>\n",
       "      <td>15668575</td>\n",
       "      <td>Female</td>\n",
       "      <td>26</td>\n",
       "      <td>43000</td>\n",
       "      <td>0</td>\n",
       "    </tr>\n",
       "    <tr>\n",
       "      <th>3</th>\n",
       "      <td>15603246</td>\n",
       "      <td>Female</td>\n",
       "      <td>27</td>\n",
       "      <td>57000</td>\n",
       "      <td>0</td>\n",
       "    </tr>\n",
       "    <tr>\n",
       "      <th>4</th>\n",
       "      <td>15804002</td>\n",
       "      <td>Male</td>\n",
       "      <td>19</td>\n",
       "      <td>76000</td>\n",
       "      <td>0</td>\n",
       "    </tr>\n",
       "  </tbody>\n",
       "</table>\n",
       "</div>"
      ],
      "text/plain": [
       "    User ID  Gender  Age  EstimatedSalary  Purchased\n",
       "0  15624510    Male   19            19000          0\n",
       "1  15810944    Male   35            20000          0\n",
       "2  15668575  Female   26            43000          0\n",
       "3  15603246  Female   27            57000          0\n",
       "4  15804002    Male   19            76000          0"
      ]
     },
     "execution_count": 3,
     "metadata": {},
     "output_type": "execute_result"
    }
   ],
   "source": [
    "dataset.head()"
   ]
  },
  {
   "cell_type": "code",
   "execution_count": 4,
   "metadata": {},
   "outputs": [],
   "source": [
    "X = dataset.iloc[:,[2,3]].values\n",
    "y = dataset.iloc[:,-1].values"
   ]
  },
  {
   "cell_type": "code",
   "execution_count": 5,
   "metadata": {},
   "outputs": [],
   "source": [
    "# y"
   ]
  },
  {
   "cell_type": "code",
   "execution_count": 6,
   "metadata": {},
   "outputs": [],
   "source": [
    "trainX, testX, trainY, testY = train_test_split(X,y,test_size=0.2)"
   ]
  },
  {
   "cell_type": "code",
   "execution_count": 7,
   "metadata": {},
   "outputs": [
    {
     "name": "stdout",
     "output_type": "stream",
     "text": [
      "(320, 2)\n",
      "(80, 2)\n",
      "(320,)\n",
      "(80,)\n"
     ]
    }
   ],
   "source": [
    "print(trainX.shape)\n",
    "print(testX.shape)\n",
    "print(trainY.shape)\n",
    "print(testY.shape)"
   ]
  },
  {
   "cell_type": "code",
   "execution_count": 8,
   "metadata": {},
   "outputs": [
    {
     "name": "stderr",
     "output_type": "stream",
     "text": [
      "C:\\Users\\asus\\Anaconda3\\lib\\site-packages\\sklearn\\utils\\validation.py:595: DataConversionWarning: Data with input dtype int64 was converted to float64 by StandardScaler.\n",
      "  warnings.warn(msg, DataConversionWarning)\n",
      "C:\\Users\\asus\\Anaconda3\\lib\\site-packages\\sklearn\\utils\\validation.py:595: DataConversionWarning: Data with input dtype int64 was converted to float64 by StandardScaler.\n",
      "  warnings.warn(msg, DataConversionWarning)\n",
      "C:\\Users\\asus\\Anaconda3\\lib\\site-packages\\sklearn\\utils\\validation.py:595: DataConversionWarning: Data with input dtype int64 was converted to float64 by StandardScaler.\n",
      "  warnings.warn(msg, DataConversionWarning)\n",
      "C:\\Users\\asus\\Anaconda3\\lib\\site-packages\\sklearn\\utils\\validation.py:595: DataConversionWarning: Data with input dtype int64 was converted to float64 by StandardScaler.\n",
      "  warnings.warn(msg, DataConversionWarning)\n"
     ]
    }
   ],
   "source": [
    "sc = StandardScaler()\n",
    "trainX = sc.fit_transform(trainX)\n",
    "testX = sc.fit_transform(testX)"
   ]
  },
  {
   "cell_type": "code",
   "execution_count": 9,
   "metadata": {},
   "outputs": [
    {
     "data": {
      "text/plain": [
       "SVC(C=1.0, cache_size=200, class_weight=None, coef0=0.0,\n",
       "  decision_function_shape='ovr', degree=3, gamma='auto_deprecated',\n",
       "  kernel='linear', max_iter=-1, probability=False, random_state=None,\n",
       "  shrinking=True, tol=0.001, verbose=False)"
      ]
     },
     "execution_count": 9,
     "metadata": {},
     "output_type": "execute_result"
    }
   ],
   "source": [
    "clf = SVC(kernel='linear')\n",
    "clf.fit(trainX,trainY)"
   ]
  },
  {
   "cell_type": "code",
   "execution_count": 10,
   "metadata": {},
   "outputs": [],
   "source": [
    "y_pred = clf.predict(testX)"
   ]
  },
  {
   "cell_type": "code",
   "execution_count": 11,
   "metadata": {},
   "outputs": [
    {
     "data": {
      "text/plain": [
       "array([0, 0, 0, 0, 0, 0, 0, 1, 0, 1, 0, 0, 1, 1, 0, 1, 1, 0, 0, 0, 1, 0,\n",
       "       1, 0, 1, 0, 0, 0, 0, 0, 0, 0, 0, 0, 1, 0, 0, 0, 1, 1, 0, 0, 0, 1,\n",
       "       0, 0, 1, 1, 0, 0, 1, 0, 0, 1, 0, 1, 0, 1, 0, 0, 0, 0, 1, 0, 0, 0,\n",
       "       1, 0, 1, 0, 1, 0, 1, 0, 1, 0, 0, 0, 0, 0], dtype=int64)"
      ]
     },
     "execution_count": 11,
     "metadata": {},
     "output_type": "execute_result"
    }
   ],
   "source": [
    "y_pred"
   ]
  },
  {
   "cell_type": "code",
   "execution_count": 12,
   "metadata": {},
   "outputs": [
    {
     "data": {
      "text/plain": [
       "0.825"
      ]
     },
     "execution_count": 12,
     "metadata": {},
     "output_type": "execute_result"
    }
   ],
   "source": [
    "accuracy_score(y_pred, testY)"
   ]
  },
  {
   "cell_type": "code",
   "execution_count": 13,
   "metadata": {},
   "outputs": [],
   "source": [
    "from matplotlib.colors import ListedColormap"
   ]
  },
  {
   "cell_type": "code",
   "execution_count": 17,
   "metadata": {},
   "outputs": [],
   "source": [
    "set_x, set_y = trainX, trainY"
   ]
  },
  {
   "cell_type": "code",
   "execution_count": 19,
   "metadata": {},
   "outputs": [
    {
     "data": {
      "text/plain": [
       "-2.9037670179325876"
      ]
     },
     "execution_count": 19,
     "metadata": {},
     "output_type": "execute_result"
    }
   ],
   "source": [
    "set_x[:,0].min() - 1"
   ]
  },
  {
   "cell_type": "code",
   "execution_count": 20,
   "metadata": {},
   "outputs": [
    {
     "data": {
      "text/plain": [
       "3.231779890264273"
      ]
     },
     "execution_count": 20,
     "metadata": {},
     "output_type": "execute_result"
    }
   ],
   "source": [
    "set_x[:,0].max() + 1"
   ]
  },
  {
   "cell_type": "code",
   "execution_count": 22,
   "metadata": {},
   "outputs": [
    {
     "data": {
      "text/plain": [
       "array([-2.90376702, -2.89376702, -2.88376702, -2.87376702, -2.86376702,\n",
       "       -2.85376702, -2.84376702, -2.83376702, -2.82376702, -2.81376702,\n",
       "       -2.80376702, -2.79376702, -2.78376702, -2.77376702, -2.76376702,\n",
       "       -2.75376702, -2.74376702, -2.73376702, -2.72376702, -2.71376702,\n",
       "       -2.70376702, -2.69376702, -2.68376702, -2.67376702, -2.66376702,\n",
       "       -2.65376702, -2.64376702, -2.63376702, -2.62376702, -2.61376702,\n",
       "       -2.60376702, -2.59376702, -2.58376702, -2.57376702, -2.56376702,\n",
       "       -2.55376702, -2.54376702, -2.53376702, -2.52376702, -2.51376702,\n",
       "       -2.50376702, -2.49376702, -2.48376702, -2.47376702, -2.46376702,\n",
       "       -2.45376702, -2.44376702, -2.43376702, -2.42376702, -2.41376702,\n",
       "       -2.40376702, -2.39376702, -2.38376702, -2.37376702, -2.36376702,\n",
       "       -2.35376702, -2.34376702, -2.33376702, -2.32376702, -2.31376702,\n",
       "       -2.30376702, -2.29376702, -2.28376702, -2.27376702, -2.26376702,\n",
       "       -2.25376702, -2.24376702, -2.23376702, -2.22376702, -2.21376702,\n",
       "       -2.20376702, -2.19376702, -2.18376702, -2.17376702, -2.16376702,\n",
       "       -2.15376702, -2.14376702, -2.13376702, -2.12376702, -2.11376702,\n",
       "       -2.10376702, -2.09376702, -2.08376702, -2.07376702, -2.06376702,\n",
       "       -2.05376702, -2.04376702, -2.03376702, -2.02376702, -2.01376702,\n",
       "       -2.00376702, -1.99376702, -1.98376702, -1.97376702, -1.96376702,\n",
       "       -1.95376702, -1.94376702, -1.93376702, -1.92376702, -1.91376702,\n",
       "       -1.90376702, -1.89376702, -1.88376702, -1.87376702, -1.86376702,\n",
       "       -1.85376702, -1.84376702, -1.83376702, -1.82376702, -1.81376702,\n",
       "       -1.80376702, -1.79376702, -1.78376702, -1.77376702, -1.76376702,\n",
       "       -1.75376702, -1.74376702, -1.73376702, -1.72376702, -1.71376702,\n",
       "       -1.70376702, -1.69376702, -1.68376702, -1.67376702, -1.66376702,\n",
       "       -1.65376702, -1.64376702, -1.63376702, -1.62376702, -1.61376702,\n",
       "       -1.60376702, -1.59376702, -1.58376702, -1.57376702, -1.56376702,\n",
       "       -1.55376702, -1.54376702, -1.53376702, -1.52376702, -1.51376702,\n",
       "       -1.50376702, -1.49376702, -1.48376702, -1.47376702, -1.46376702,\n",
       "       -1.45376702, -1.44376702, -1.43376702, -1.42376702, -1.41376702,\n",
       "       -1.40376702, -1.39376702, -1.38376702, -1.37376702, -1.36376702,\n",
       "       -1.35376702, -1.34376702, -1.33376702, -1.32376702, -1.31376702,\n",
       "       -1.30376702, -1.29376702, -1.28376702, -1.27376702, -1.26376702,\n",
       "       -1.25376702, -1.24376702, -1.23376702, -1.22376702, -1.21376702,\n",
       "       -1.20376702, -1.19376702, -1.18376702, -1.17376702, -1.16376702,\n",
       "       -1.15376702, -1.14376702, -1.13376702, -1.12376702, -1.11376702,\n",
       "       -1.10376702, -1.09376702, -1.08376702, -1.07376702, -1.06376702,\n",
       "       -1.05376702, -1.04376702, -1.03376702, -1.02376702, -1.01376702,\n",
       "       -1.00376702, -0.99376702, -0.98376702, -0.97376702, -0.96376702,\n",
       "       -0.95376702, -0.94376702, -0.93376702, -0.92376702, -0.91376702,\n",
       "       -0.90376702, -0.89376702, -0.88376702, -0.87376702, -0.86376702,\n",
       "       -0.85376702, -0.84376702, -0.83376702, -0.82376702, -0.81376702,\n",
       "       -0.80376702, -0.79376702, -0.78376702, -0.77376702, -0.76376702,\n",
       "       -0.75376702, -0.74376702, -0.73376702, -0.72376702, -0.71376702,\n",
       "       -0.70376702, -0.69376702, -0.68376702, -0.67376702, -0.66376702,\n",
       "       -0.65376702, -0.64376702, -0.63376702, -0.62376702, -0.61376702,\n",
       "       -0.60376702, -0.59376702, -0.58376702, -0.57376702, -0.56376702,\n",
       "       -0.55376702, -0.54376702, -0.53376702, -0.52376702, -0.51376702,\n",
       "       -0.50376702, -0.49376702, -0.48376702, -0.47376702, -0.46376702,\n",
       "       -0.45376702, -0.44376702, -0.43376702, -0.42376702, -0.41376702,\n",
       "       -0.40376702, -0.39376702, -0.38376702, -0.37376702, -0.36376702,\n",
       "       -0.35376702, -0.34376702, -0.33376702, -0.32376702, -0.31376702,\n",
       "       -0.30376702, -0.29376702, -0.28376702, -0.27376702, -0.26376702,\n",
       "       -0.25376702, -0.24376702, -0.23376702, -0.22376702, -0.21376702,\n",
       "       -0.20376702, -0.19376702, -0.18376702, -0.17376702, -0.16376702,\n",
       "       -0.15376702, -0.14376702, -0.13376702, -0.12376702, -0.11376702,\n",
       "       -0.10376702, -0.09376702, -0.08376702, -0.07376702, -0.06376702,\n",
       "       -0.05376702, -0.04376702, -0.03376702, -0.02376702, -0.01376702,\n",
       "       -0.00376702,  0.00623298,  0.01623298,  0.02623298,  0.03623298,\n",
       "        0.04623298,  0.05623298,  0.06623298,  0.07623298,  0.08623298,\n",
       "        0.09623298,  0.10623298,  0.11623298,  0.12623298,  0.13623298,\n",
       "        0.14623298,  0.15623298,  0.16623298,  0.17623298,  0.18623298,\n",
       "        0.19623298,  0.20623298,  0.21623298,  0.22623298,  0.23623298,\n",
       "        0.24623298,  0.25623298,  0.26623298,  0.27623298,  0.28623298,\n",
       "        0.29623298,  0.30623298,  0.31623298,  0.32623298,  0.33623298,\n",
       "        0.34623298,  0.35623298,  0.36623298,  0.37623298,  0.38623298,\n",
       "        0.39623298,  0.40623298,  0.41623298,  0.42623298,  0.43623298,\n",
       "        0.44623298,  0.45623298,  0.46623298,  0.47623298,  0.48623298,\n",
       "        0.49623298,  0.50623298,  0.51623298,  0.52623298,  0.53623298,\n",
       "        0.54623298,  0.55623298,  0.56623298,  0.57623298,  0.58623298,\n",
       "        0.59623298,  0.60623298,  0.61623298,  0.62623298,  0.63623298,\n",
       "        0.64623298,  0.65623298,  0.66623298,  0.67623298,  0.68623298,\n",
       "        0.69623298,  0.70623298,  0.71623298,  0.72623298,  0.73623298,\n",
       "        0.74623298,  0.75623298,  0.76623298,  0.77623298,  0.78623298,\n",
       "        0.79623298,  0.80623298,  0.81623298,  0.82623298,  0.83623298,\n",
       "        0.84623298,  0.85623298,  0.86623298,  0.87623298,  0.88623298,\n",
       "        0.89623298,  0.90623298,  0.91623298,  0.92623298,  0.93623298,\n",
       "        0.94623298,  0.95623298,  0.96623298,  0.97623298,  0.98623298,\n",
       "        0.99623298,  1.00623298,  1.01623298,  1.02623298,  1.03623298,\n",
       "        1.04623298,  1.05623298,  1.06623298,  1.07623298,  1.08623298,\n",
       "        1.09623298,  1.10623298,  1.11623298,  1.12623298,  1.13623298,\n",
       "        1.14623298,  1.15623298,  1.16623298,  1.17623298,  1.18623298,\n",
       "        1.19623298,  1.20623298,  1.21623298,  1.22623298,  1.23623298,\n",
       "        1.24623298,  1.25623298,  1.26623298,  1.27623298,  1.28623298,\n",
       "        1.29623298,  1.30623298,  1.31623298,  1.32623298,  1.33623298,\n",
       "        1.34623298,  1.35623298,  1.36623298,  1.37623298,  1.38623298,\n",
       "        1.39623298,  1.40623298,  1.41623298,  1.42623298,  1.43623298,\n",
       "        1.44623298,  1.45623298,  1.46623298,  1.47623298,  1.48623298,\n",
       "        1.49623298,  1.50623298,  1.51623298,  1.52623298,  1.53623298,\n",
       "        1.54623298,  1.55623298,  1.56623298,  1.57623298,  1.58623298,\n",
       "        1.59623298,  1.60623298,  1.61623298,  1.62623298,  1.63623298,\n",
       "        1.64623298,  1.65623298,  1.66623298,  1.67623298,  1.68623298,\n",
       "        1.69623298,  1.70623298,  1.71623298,  1.72623298,  1.73623298,\n",
       "        1.74623298,  1.75623298,  1.76623298,  1.77623298,  1.78623298,\n",
       "        1.79623298,  1.80623298,  1.81623298,  1.82623298,  1.83623298,\n",
       "        1.84623298,  1.85623298,  1.86623298,  1.87623298,  1.88623298,\n",
       "        1.89623298,  1.90623298,  1.91623298,  1.92623298,  1.93623298,\n",
       "        1.94623298,  1.95623298,  1.96623298,  1.97623298,  1.98623298,\n",
       "        1.99623298,  2.00623298,  2.01623298,  2.02623298,  2.03623298,\n",
       "        2.04623298,  2.05623298,  2.06623298,  2.07623298,  2.08623298,\n",
       "        2.09623298,  2.10623298,  2.11623298,  2.12623298,  2.13623298,\n",
       "        2.14623298,  2.15623298,  2.16623298,  2.17623298,  2.18623298,\n",
       "        2.19623298,  2.20623298,  2.21623298,  2.22623298,  2.23623298,\n",
       "        2.24623298,  2.25623298,  2.26623298,  2.27623298,  2.28623298,\n",
       "        2.29623298,  2.30623298,  2.31623298,  2.32623298,  2.33623298,\n",
       "        2.34623298,  2.35623298,  2.36623298,  2.37623298,  2.38623298,\n",
       "        2.39623298,  2.40623298,  2.41623298,  2.42623298,  2.43623298,\n",
       "        2.44623298,  2.45623298,  2.46623298,  2.47623298,  2.48623298,\n",
       "        2.49623298,  2.50623298,  2.51623298,  2.52623298,  2.53623298,\n",
       "        2.54623298,  2.55623298,  2.56623298,  2.57623298,  2.58623298,\n",
       "        2.59623298,  2.60623298,  2.61623298,  2.62623298,  2.63623298,\n",
       "        2.64623298,  2.65623298,  2.66623298,  2.67623298,  2.68623298,\n",
       "        2.69623298,  2.70623298,  2.71623298,  2.72623298,  2.73623298,\n",
       "        2.74623298,  2.75623298,  2.76623298,  2.77623298,  2.78623298,\n",
       "        2.79623298,  2.80623298,  2.81623298,  2.82623298,  2.83623298,\n",
       "        2.84623298,  2.85623298,  2.86623298,  2.87623298,  2.88623298,\n",
       "        2.89623298,  2.90623298,  2.91623298,  2.92623298,  2.93623298,\n",
       "        2.94623298,  2.95623298,  2.96623298,  2.97623298,  2.98623298,\n",
       "        2.99623298,  3.00623298,  3.01623298,  3.02623298,  3.03623298,\n",
       "        3.04623298,  3.05623298,  3.06623298,  3.07623298,  3.08623298,\n",
       "        3.09623298,  3.10623298,  3.11623298,  3.12623298,  3.13623298,\n",
       "        3.14623298,  3.15623298,  3.16623298,  3.17623298,  3.18623298,\n",
       "        3.19623298,  3.20623298,  3.21623298,  3.22623298])"
      ]
     },
     "execution_count": 22,
     "metadata": {},
     "output_type": "execute_result"
    }
   ],
   "source": [
    "np.arange(set_x[:,0].min() - 1, set_x[:,0].max() + 1,step=0.01)"
   ]
  },
  {
   "cell_type": "code",
   "execution_count": null,
   "metadata": {},
   "outputs": [],
   "source": []
  },
  {
   "cell_type": "code",
   "execution_count": 23,
   "metadata": {},
   "outputs": [],
   "source": [
    "xx, yy = np.meshgrid(np.arange(set_x[:,0].min() - 1, set_x[:,0].max() + 1, step=0.01),\n",
    "                    np.arange(set_x[:,1].min() - 1, set_x[:,1].max() + 1, step=0.01))\n",
    "\n",
    "z = clf.predict(np.array([xx.ravel(), yy.ravel()]).T).reshape(xx.shape)\n"
   ]
  },
  {
   "cell_type": "code",
   "execution_count": 24,
   "metadata": {},
   "outputs": [
    {
     "data": {
      "text/plain": [
       "array([[0, 0, 0, ..., 1, 1, 1],\n",
       "       [0, 0, 0, ..., 1, 1, 1],\n",
       "       [0, 0, 0, ..., 1, 1, 1],\n",
       "       ...,\n",
       "       [0, 0, 0, ..., 1, 1, 1],\n",
       "       [0, 0, 0, ..., 1, 1, 1],\n",
       "       [0, 0, 0, ..., 1, 1, 1]], dtype=int64)"
      ]
     },
     "execution_count": 24,
     "metadata": {},
     "output_type": "execute_result"
    }
   ],
   "source": [
    "# len(xx)\n",
    "z"
   ]
  },
  {
   "cell_type": "code",
   "execution_count": 26,
   "metadata": {},
   "outputs": [
    {
     "data": {
      "image/png": "[encoded data removed]",
      "text/plain": [
       "<Figure size 432x288 with 1 Axes>"
      ]
     },
     "metadata": {
      "needs_background": "light"
     },
     "output_type": "display_data"
    }
   ],
   "source": [
    "# alpha - opacity\n",
    "# ListedColorMap - set color for features\n",
    "plt.contourf(xx, yy, z, alpha = 0.75, cmap = ListedColormap(('red','green')))\n",
    "plt.xlim(xx.min(), xx.max())\n",
    "plt.ylim(yy.min(),yy.max())\n",
    "\n",
    "plt.scatter(trainX[:,0],trainX[:,1],c=trainY)\n",
    "# plt.scatter(xx,yy,c=z)\n",
    "    \n",
    "plt.show()    "
   ]
  },
  {
   "cell_type": "code",
   "execution_count": null,
   "metadata": {
    "collapsed": true
   },
   "outputs": [],
   "source": []
  }
 ],
 "metadata": {
  "kernelspec": {
   "display_name": "Python 3",
   "language": "python",
   "name": "python3"
  },
  "language_info": {
   "codemirror_mode": {
    "name": "ipython",
    "version": 3
   },
   "file_extension": ".py",
   "mimetype": "text/x-python",
   "name": "python",
   "nbconvert_exporter": "python",
   "pygments_lexer": "ipython3",
   "version": "3.7.3"
  }
 },
 "nbformat": 4,
 "nbformat_minor": 2
}
